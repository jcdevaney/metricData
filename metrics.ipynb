{
  "nbformat": 4,
  "nbformat_minor": 0,
  "metadata": {
    "colab": {
      "provenance": [],
      "collapsed_sections": [
        "AAxjRm6G-DFZ",
        "UL3b6rpxbUzp",
        "XCi5zAOmbe1_",
        "muYomz16csbq"
      ],
      "include_colab_link": true
    },
    "kernelspec": {
      "name": "python3",
      "display_name": "Python 3"
    },
    "language_info": {
      "name": "python"
    }
  },
  "cells": [
    {
      "cell_type": "markdown",
      "metadata": {
        "id": "view-in-github",
        "colab_type": "text"
      },
      "source": [
        "<a href=\"https://colab.research.google.com/github/jcdevaney/metricData/blob/main/metrics.ipynb\" target=\"_parent\"><img src=\"https://colab.research.google.com/assets/colab-badge.svg\" alt=\"Open In Colab\"/></a>"
      ]
    },
    {
      "cell_type": "markdown",
      "source": [
        "# Load Libraries and Data"
      ],
      "metadata": {
        "id": "GBM6F-dna_FZ"
      }
    },
    {
      "cell_type": "code",
      "execution_count": null,
      "metadata": {
        "id": "EOaPGkkbjJey",
        "colab": {
          "base_uri": "https://localhost:8080/"
        },
        "outputId": "e6accf3e-b6c8-4f3f-f621-706b639293b5"
      },
      "outputs": [
        {
          "output_type": "stream",
          "name": "stdout",
          "text": [
            "Looking in indexes: https://pypi.org/simple, https://us-python.pkg.dev/colab-wheels/public/simple/\n",
            "Requirement already satisfied: jams in /usr/local/lib/python3.9/dist-packages (0.3.4)\n",
            "Requirement already satisfied: mir-eval>=0.5 in /usr/local/lib/python3.9/dist-packages (from jams) (0.7)\n",
            "Requirement already satisfied: jsonschema>=3.0.0 in /usr/local/lib/python3.9/dist-packages (from jams) (4.3.3)\n",
            "Requirement already satisfied: sortedcontainers>=2.0.0 in /usr/local/lib/python3.9/dist-packages (from jams) (2.4.0)\n",
            "Requirement already satisfied: decorator in /usr/local/lib/python3.9/dist-packages (from jams) (4.4.2)\n",
            "Requirement already satisfied: numpy>=1.8.0 in /usr/local/lib/python3.9/dist-packages (from jams) (1.22.4)\n",
            "Requirement already satisfied: pandas in /usr/local/lib/python3.9/dist-packages (from jams) (1.5.3)\n",
            "Requirement already satisfied: six in /usr/local/lib/python3.9/dist-packages (from jams) (1.16.0)\n",
            "Requirement already satisfied: attrs>=17.4.0 in /usr/local/lib/python3.9/dist-packages (from jsonschema>=3.0.0->jams) (22.2.0)\n",
            "Requirement already satisfied: pyrsistent!=0.17.0,!=0.17.1,!=0.17.2,>=0.14.0 in /usr/local/lib/python3.9/dist-packages (from jsonschema>=3.0.0->jams) (0.19.3)\n",
            "Requirement already satisfied: scipy>=1.0.0 in /usr/local/lib/python3.9/dist-packages (from mir-eval>=0.5->jams) (1.10.1)\n",
            "Requirement already satisfied: future in /usr/local/lib/python3.9/dist-packages (from mir-eval>=0.5->jams) (0.18.3)\n",
            "Requirement already satisfied: pytz>=2020.1 in /usr/local/lib/python3.9/dist-packages (from pandas->jams) (2022.7.1)\n",
            "Requirement already satisfied: python-dateutil>=2.8.1 in /usr/local/lib/python3.9/dist-packages (from pandas->jams) (2.8.2)\n",
            "Looking in indexes: https://pypi.org/simple, https://us-python.pkg.dev/colab-wheels/public/simple/\n",
            "Collecting libfmp\n",
            "  Downloading libfmp-1.2.3-py3-none-any.whl (110 kB)\n",
            "\u001b[2K     \u001b[90m━━━━━━━━━━━━━━━━━━━━━━━━━━━━━━━━━━━━━━━\u001b[0m \u001b[32m110.0/110.0 kB\u001b[0m \u001b[31m3.6 MB/s\u001b[0m eta \u001b[36m0:00:00\u001b[0m\n",
            "\u001b[?25hRequirement already satisfied: matplotlib<4.0.0,>=3.1.0 in /usr/local/lib/python3.9/dist-packages (from libfmp) (3.7.1)\n",
            "Requirement already satisfied: scipy<2.0.0,>=1.3.0 in /usr/local/lib/python3.9/dist-packages (from libfmp) (1.10.1)\n",
            "Collecting music21<6.0.0,>=5.7.0\n",
            "  Downloading music21-5.7.2.tar.gz (18.5 MB)\n",
            "\u001b[2K     \u001b[90m━━━━━━━━━━━━━━━━━━━━━━━━━━━━━━━━━━━━━━━━\u001b[0m \u001b[32m18.5/18.5 MB\u001b[0m \u001b[31m60.1 MB/s\u001b[0m eta \u001b[36m0:00:00\u001b[0m\n",
            "\u001b[?25h  Preparing metadata (setup.py) ... \u001b[?25l\u001b[?25hdone\n",
            "Requirement already satisfied: ipython<8.0.0,>=7.8.0 in /usr/local/lib/python3.9/dist-packages (from libfmp) (7.34.0)\n",
            "Requirement already satisfied: pandas<2.0.0,>=1.0.0 in /usr/local/lib/python3.9/dist-packages (from libfmp) (1.5.3)\n",
            "Requirement already satisfied: soundfile<1.0.0,>=0.9.0 in /usr/local/lib/python3.9/dist-packages (from libfmp) (0.12.1)\n",
            "Requirement already satisfied: librosa<1.0.0,>=0.8.0 in /usr/local/lib/python3.9/dist-packages (from libfmp) (0.10.0.post2)\n",
            "Requirement already satisfied: numpy<2.0.0,>=1.17.0 in /usr/local/lib/python3.9/dist-packages (from libfmp) (1.22.4)\n",
            "Collecting pretty-midi<1.0.0,>=0.2.0\n",
            "  Downloading pretty_midi-0.2.10.tar.gz (5.6 MB)\n",
            "\u001b[2K     \u001b[90m━━━━━━━━━━━━━━━━━━━━━━━━━━━━━━━━━━━━━━━━\u001b[0m \u001b[32m5.6/5.6 MB\u001b[0m \u001b[31m54.3 MB/s\u001b[0m eta \u001b[36m0:00:00\u001b[0m\n",
            "\u001b[?25h  Preparing metadata (setup.py) ... \u001b[?25l\u001b[?25hdone\n",
            "Requirement already satisfied: numba<1.0.0,>=0.51.0 in /usr/local/lib/python3.9/dist-packages (from libfmp) (0.56.4)\n",
            "Requirement already satisfied: matplotlib-inline in /usr/local/lib/python3.9/dist-packages (from ipython<8.0.0,>=7.8.0->libfmp) (0.1.6)\n",
            "Requirement already satisfied: traitlets>=4.2 in /usr/local/lib/python3.9/dist-packages (from ipython<8.0.0,>=7.8.0->libfmp) (5.7.1)\n",
            "Requirement already satisfied: pexpect>4.3 in /usr/local/lib/python3.9/dist-packages (from ipython<8.0.0,>=7.8.0->libfmp) (4.8.0)\n",
            "Requirement already satisfied: prompt-toolkit!=3.0.0,!=3.0.1,<3.1.0,>=2.0.0 in /usr/local/lib/python3.9/dist-packages (from ipython<8.0.0,>=7.8.0->libfmp) (3.0.38)\n",
            "Requirement already satisfied: pygments in /usr/local/lib/python3.9/dist-packages (from ipython<8.0.0,>=7.8.0->libfmp) (2.14.0)\n",
            "Requirement already satisfied: backcall in /usr/local/lib/python3.9/dist-packages (from ipython<8.0.0,>=7.8.0->libfmp) (0.2.0)\n",
            "Collecting jedi>=0.16\n",
            "  Downloading jedi-0.18.2-py2.py3-none-any.whl (1.6 MB)\n",
            "\u001b[2K     \u001b[90m━━━━━━━━━━━━━━━━━━━━━━━━━━━━━━━━━━━━━━━━\u001b[0m \u001b[32m1.6/1.6 MB\u001b[0m \u001b[31m52.8 MB/s\u001b[0m eta \u001b[36m0:00:00\u001b[0m\n",
            "\u001b[?25hRequirement already satisfied: pickleshare in /usr/local/lib/python3.9/dist-packages (from ipython<8.0.0,>=7.8.0->libfmp) (0.7.5)\n",
            "Requirement already satisfied: decorator in /usr/local/lib/python3.9/dist-packages (from ipython<8.0.0,>=7.8.0->libfmp) (4.4.2)\n",
            "Requirement already satisfied: setuptools>=18.5 in /usr/local/lib/python3.9/dist-packages (from ipython<8.0.0,>=7.8.0->libfmp) (67.6.1)\n",
            "Requirement already satisfied: lazy-loader>=0.1 in /usr/local/lib/python3.9/dist-packages (from librosa<1.0.0,>=0.8.0->libfmp) (0.2)\n",
            "Requirement already satisfied: msgpack>=1.0 in /usr/local/lib/python3.9/dist-packages (from librosa<1.0.0,>=0.8.0->libfmp) (1.0.5)\n",
            "Requirement already satisfied: joblib>=0.14 in /usr/local/lib/python3.9/dist-packages (from librosa<1.0.0,>=0.8.0->libfmp) (1.2.0)\n",
            "Requirement already satisfied: audioread>=2.1.9 in /usr/local/lib/python3.9/dist-packages (from librosa<1.0.0,>=0.8.0->libfmp) (3.0.0)\n",
            "Requirement already satisfied: pooch<1.7,>=1.0 in /usr/local/lib/python3.9/dist-packages (from librosa<1.0.0,>=0.8.0->libfmp) (1.6.0)\n",
            "Requirement already satisfied: typing-extensions>=4.1.1 in /usr/local/lib/python3.9/dist-packages (from librosa<1.0.0,>=0.8.0->libfmp) (4.5.0)\n",
            "Requirement already satisfied: soxr>=0.3.2 in /usr/local/lib/python3.9/dist-packages (from librosa<1.0.0,>=0.8.0->libfmp) (0.3.5)\n",
            "Requirement already satisfied: scikit-learn>=0.20.0 in /usr/local/lib/python3.9/dist-packages (from librosa<1.0.0,>=0.8.0->libfmp) (1.2.2)\n",
            "Requirement already satisfied: fonttools>=4.22.0 in /usr/local/lib/python3.9/dist-packages (from matplotlib<4.0.0,>=3.1.0->libfmp) (4.39.3)\n",
            "Requirement already satisfied: contourpy>=1.0.1 in /usr/local/lib/python3.9/dist-packages (from matplotlib<4.0.0,>=3.1.0->libfmp) (1.0.7)\n",
            "Requirement already satisfied: pyparsing>=2.3.1 in /usr/local/lib/python3.9/dist-packages (from matplotlib<4.0.0,>=3.1.0->libfmp) (3.0.9)\n",
            "Requirement already satisfied: cycler>=0.10 in /usr/local/lib/python3.9/dist-packages (from matplotlib<4.0.0,>=3.1.0->libfmp) (0.11.0)\n",
            "Requirement already satisfied: pillow>=6.2.0 in /usr/local/lib/python3.9/dist-packages (from matplotlib<4.0.0,>=3.1.0->libfmp) (8.4.0)\n",
            "Requirement already satisfied: python-dateutil>=2.7 in /usr/local/lib/python3.9/dist-packages (from matplotlib<4.0.0,>=3.1.0->libfmp) (2.8.2)\n",
            "Requirement already satisfied: kiwisolver>=1.0.1 in /usr/local/lib/python3.9/dist-packages (from matplotlib<4.0.0,>=3.1.0->libfmp) (1.4.4)\n",
            "Requirement already satisfied: packaging>=20.0 in /usr/local/lib/python3.9/dist-packages (from matplotlib<4.0.0,>=3.1.0->libfmp) (23.0)\n",
            "Requirement already satisfied: importlib-resources>=3.2.0 in /usr/local/lib/python3.9/dist-packages (from matplotlib<4.0.0,>=3.1.0->libfmp) (5.12.0)\n",
            "Requirement already satisfied: llvmlite<0.40,>=0.39.0dev0 in /usr/local/lib/python3.9/dist-packages (from numba<1.0.0,>=0.51.0->libfmp) (0.39.1)\n",
            "Requirement already satisfied: pytz>=2020.1 in /usr/local/lib/python3.9/dist-packages (from pandas<2.0.0,>=1.0.0->libfmp) (2022.7.1)\n",
            "Collecting mido>=1.1.16\n",
            "  Downloading mido-1.2.10-py2.py3-none-any.whl (51 kB)\n",
            "\u001b[2K     \u001b[90m━━━━━━━━━━━━━━━━━━━━━━━━━━━━━━━━━━━━━━━━\u001b[0m \u001b[32m51.1/51.1 kB\u001b[0m \u001b[31m5.1 MB/s\u001b[0m eta \u001b[36m0:00:00\u001b[0m\n",
            "\u001b[?25hRequirement already satisfied: six in /usr/local/lib/python3.9/dist-packages (from pretty-midi<1.0.0,>=0.2.0->libfmp) (1.16.0)\n",
            "Requirement already satisfied: cffi>=1.0 in /usr/local/lib/python3.9/dist-packages (from soundfile<1.0.0,>=0.9.0->libfmp) (1.15.1)\n",
            "Requirement already satisfied: pycparser in /usr/local/lib/python3.9/dist-packages (from cffi>=1.0->soundfile<1.0.0,>=0.9.0->libfmp) (2.21)\n",
            "Requirement already satisfied: zipp>=3.1.0 in /usr/local/lib/python3.9/dist-packages (from importlib-resources>=3.2.0->matplotlib<4.0.0,>=3.1.0->libfmp) (3.15.0)\n",
            "Requirement already satisfied: parso<0.9.0,>=0.8.0 in /usr/local/lib/python3.9/dist-packages (from jedi>=0.16->ipython<8.0.0,>=7.8.0->libfmp) (0.8.3)\n",
            "Requirement already satisfied: ptyprocess>=0.5 in /usr/local/lib/python3.9/dist-packages (from pexpect>4.3->ipython<8.0.0,>=7.8.0->libfmp) (0.7.0)\n",
            "Requirement already satisfied: requests>=2.19.0 in /usr/local/lib/python3.9/dist-packages (from pooch<1.7,>=1.0->librosa<1.0.0,>=0.8.0->libfmp) (2.27.1)\n",
            "Requirement already satisfied: appdirs>=1.3.0 in /usr/local/lib/python3.9/dist-packages (from pooch<1.7,>=1.0->librosa<1.0.0,>=0.8.0->libfmp) (1.4.4)\n",
            "Requirement already satisfied: wcwidth in /usr/local/lib/python3.9/dist-packages (from prompt-toolkit!=3.0.0,!=3.0.1,<3.1.0,>=2.0.0->ipython<8.0.0,>=7.8.0->libfmp) (0.2.6)\n",
            "Requirement already satisfied: threadpoolctl>=2.0.0 in /usr/local/lib/python3.9/dist-packages (from scikit-learn>=0.20.0->librosa<1.0.0,>=0.8.0->libfmp) (3.1.0)\n",
            "Requirement already satisfied: urllib3<1.27,>=1.21.1 in /usr/local/lib/python3.9/dist-packages (from requests>=2.19.0->pooch<1.7,>=1.0->librosa<1.0.0,>=0.8.0->libfmp) (1.26.15)\n",
            "Requirement already satisfied: idna<4,>=2.5 in /usr/local/lib/python3.9/dist-packages (from requests>=2.19.0->pooch<1.7,>=1.0->librosa<1.0.0,>=0.8.0->libfmp) (3.4)\n",
            "Requirement already satisfied: certifi>=2017.4.17 in /usr/local/lib/python3.9/dist-packages (from requests>=2.19.0->pooch<1.7,>=1.0->librosa<1.0.0,>=0.8.0->libfmp) (2022.12.7)\n",
            "Requirement already satisfied: charset-normalizer~=2.0.0 in /usr/local/lib/python3.9/dist-packages (from requests>=2.19.0->pooch<1.7,>=1.0->librosa<1.0.0,>=0.8.0->libfmp) (2.0.12)\n",
            "Building wheels for collected packages: music21, pretty-midi\n",
            "  Building wheel for music21 (setup.py) ... \u001b[?25l\u001b[?25hdone\n",
            "  Created wheel for music21: filename=music21-5.7.2-py3-none-any.whl size=22024625 sha256=b2e8060ee04b3bde3ce27cb9d12329e15aed07293edc754fcdbf776f4e4849b1\n",
            "  Stored in directory: /root/.cache/pip/wheels/d1/eb/81/e858063b266b06812875dce9e1c04e66bbca397d5bf19fb1ce\n",
            "  Building wheel for pretty-midi (setup.py) ... \u001b[?25l\u001b[?25hdone\n",
            "  Created wheel for pretty-midi: filename=pretty_midi-0.2.10-py3-none-any.whl size=5592303 sha256=04748ac1f4c8521894c41a1ff840ed3b125fc2cdc7ea61e2ab079a180974b5c4\n",
            "  Stored in directory: /root/.cache/pip/wheels/75/ec/20/b8e937a5bcf1de547ea5ce465db7de7f6761e15e6f0a01e25f\n",
            "Successfully built music21 pretty-midi\n",
            "Installing collected packages: mido, pretty-midi, music21, jedi, libfmp\n",
            "  Attempting uninstall: music21\n",
            "    Found existing installation: music21 8.1.0\n",
            "    Uninstalling music21-8.1.0:\n",
            "      Successfully uninstalled music21-8.1.0\n",
            "Successfully installed jedi-0.18.2 libfmp-1.2.3 mido-1.2.10 music21-5.7.2 pretty-midi-0.2.10\n"
          ]
        }
      ],
      "source": [
        "!pip install jams\n",
        "!pip install libfmp\n",
        "#!pip install wget\n",
        "import numpy as np, os, scipy\n",
        "import pandas as pd\n",
        "from matplotlib import pyplot as plt\n",
        "import librosa\n",
        "import mir_eval\n",
        "#import urllib.request as urll\n",
        "#import wget\n",
        "#from sortedcontainers import SortedKeyList"
      ]
    },
    {
      "cell_type": "markdown",
      "source": [
        "## Load ACE Estimates"
      ],
      "metadata": {
        "id": "MbSqci9q8pPZ"
      }
    },
    {
      "cell_type": "code",
      "source": [
        "!git clone https://github.com/jcdevaney/metricData.git\n",
        "df_all_songs_ACE = pd.read_csv('/content/metricData/aceEstimates.csv')\n",
        "df_all_songs_ACE = df_all_songs_ACE.iloc[:,1:4]"
      ],
      "metadata": {
        "id": "HU8eN81o8tUD",
        "colab": {
          "base_uri": "https://localhost:8080/"
        },
        "outputId": "224c9557-f3c4-4332-fb1d-188bf02f7ff9"
      },
      "execution_count": null,
      "outputs": [
        {
          "output_type": "stream",
          "name": "stdout",
          "text": [
            "Cloning into 'metricData'...\n",
            "remote: Enumerating objects: 6, done.\u001b[K\n",
            "remote: Counting objects: 100% (6/6), done.\u001b[K\n",
            "remote: Compressing objects: 100% (4/4), done.\u001b[K\n",
            "remote: Total 6 (delta 0), reused 0 (delta 0), pack-reused 0\u001b[K\n",
            "Unpacking objects: 100% (6/6), 1.64 MiB | 2.78 MiB/s, done.\n"
          ]
        }
      ]
    },
    {
      "cell_type": "markdown",
      "source": [
        "# Define Metrics"
      ],
      "metadata": {
        "id": "AAxjRm6G-DFZ"
      }
    },
    {
      "cell_type": "code",
      "source": [
        "from libfmp.c3 import normalize_feature_sequence\n",
        "\n",
        "def cossim(vec1, vec2, threshold=0.001):\n",
        "    vec1_norm = normalize_feature_sequence(vec1, norm='2', threshold=threshold)\n",
        "    vec2_norm = normalize_feature_sequence(vec2, norm='2', threshold=threshold)\n",
        "    cosine_sim = np.sum(np.multiply(vec1_norm, vec2_norm))/vec2_norm.shape[1]\n",
        "    return cosine_sim"
      ],
      "metadata": {
        "id": "NsoJHl2qViMK"
      },
      "execution_count": null,
      "outputs": []
    },
    {
      "cell_type": "code",
      "source": [
        "# calculates chord metric on aboslute PC bitmap\n",
        "# assumes numpy array as input\n",
        "def predictionsInsertionsBM(estimateBM, referenceBM):\n",
        "\n",
        "    estimate=set(estimateBM.nonzero()[0])\n",
        "    reference=set(referenceBM.nonzero()[0])\n",
        "\n",
        "    # C is the number of predicted notes in the estimate that occur in the reference (ground truth)\n",
        "    C = len(estimate.intersection(reference))\n",
        "\n",
        "    # I is the number of insertions (extra predicted notes) in the estimate that are not present in\n",
        "    # the reference (ground truth)\n",
        "    I = len(estimate.difference(reference))\n",
        "\n",
        "    # accuracy measurement for each chord estimate, scaled between 0 and 1\n",
        "    A = (C - I + len(reference)) / (2*len(reference))\n",
        "\n",
        "    return A\n",
        "\n",
        "# predictionsInsertionsBM(absolute_pcs1,absolute_pcs2)"
      ],
      "metadata": {
        "id": "ESbFtTkhKzub"
      },
      "execution_count": null,
      "outputs": []
    },
    {
      "cell_type": "code",
      "source": [
        "# symmetrized version of above measure\n",
        "\n",
        "# def predictionsInsertionsSymmetric(label1BM, label2BM):\n",
        "\n",
        "#     label1=set(label1BM.nonzero()[0])\n",
        "#     label2=set(label2BM.nonzero()[0])\n",
        "\n",
        "#     if (len(label1)==0) & (len(label2)==0):\n",
        "#         A = 1\n",
        "#     elif len(label1)==0:\n",
        "#         A = predictionsInsertionsBM(label1BM, label2BM)\n",
        "#     elif len(label2)==0:\n",
        "#         A = predictionsInsertionsBM(label2BM, label1BM)\n",
        "#     else:\n",
        "#         A = (predictionsInsertionsBM(label1BM, label2BM) + predictionsInsertionsBM(label2BM, label1BM))/2\n",
        "\n",
        "#     return A\n",
        "\n",
        "def predictionsInsertionsSymmetric(estimateBM, referenceBM):\n",
        "    estimate=set(estimateBM.nonzero()[0])\n",
        "    reference=set(referenceBM.nonzero()[0])\n",
        "    le = len(estimate)\n",
        "    lr = len(reference)\n",
        "\n",
        "    # C is the number of predicted notes in the estimate that occur in the reference (ground truth)\n",
        "    C = len(estimate.intersection(reference))\n",
        "\n",
        "    # I is the number of insertions (extra predicted notes) in the estimate that are not present in\n",
        "    # the reference (ground truth)\n",
        "    I = max(len(estimate.difference(reference)), len(reference.difference(estimate)))\n",
        "\n",
        "    maxlength = max(le, lr)\n",
        "\n",
        "    if maxlength==0:\n",
        "        A = 1\n",
        "\n",
        "    else:\n",
        "        # accuracy measurement for each chord estimate, scaled between 0 and 1\n",
        "        A = (C - I + maxlength) / (2*maxlength)\n",
        "        # A = (C - I + len(reference)) / (2*len(reference))\n",
        "\n",
        "    return A"
      ],
      "metadata": {
        "id": "YJJb9q-vGrDg"
      },
      "execution_count": null,
      "outputs": []
    },
    {
      "cell_type": "markdown",
      "source": [
        "# ACE Calculations"
      ],
      "metadata": {
        "id": "799bkbeMclBE"
      }
    },
    {
      "cell_type": "code",
      "source": [
        "# Calculate Pairwise Stats\n",
        "\n",
        "# Print all pairs of annotations that disagree in the root (ignoring 'N')\n",
        "\n",
        "from itertools import combinations\n",
        "\n",
        "def pairwiseStats(df_all_songs_ACE, algorithm):\n",
        "      previousstring = ''\n",
        "      counter = 0\n",
        "      allpairs = 0\n",
        "      pairwise_stats = np.zeros((0, 5))   # statistics: #pcs1, #pcs2, #pcsshared, cs, idm\n",
        "\n",
        "      for index, row in df_all_songs_ACE.iterrows():\n",
        "\n",
        "              allpairs += 1\n",
        "              exec(\"label1 = row['Reference']\")\n",
        "              exec(\"label2 = row[algorithm]\")\n",
        "              root1, shorthand1, scaledeg1, bass1 = mir_eval.chord.split(label1)\n",
        "              root2, shorthand2, scaledeg2, bass2 = mir_eval.chord.split(label2)\n",
        "\n",
        "              rootlist_clean = [root1, root2]\n",
        "              while 'N' in rootlist_clean: rootlist_clean.remove('N')\n",
        "              rootlist_clean = [mir_eval.chord.pitch_class_to_semitone(r) for r in rootlist_clean]\n",
        "\n",
        "              if (len(rootlist_clean)>1):\n",
        "\n",
        "                  if (rootlist_clean[0]!=rootlist_clean[1]):\n",
        "                      print(rootlist_clean)\n",
        "                      counter+=1\n",
        "                      comparestring = root1+':'+shorthand1+' - '+root2+':'+shorthand2\n",
        "\n",
        "                      rootnum1, bitmap1, bassnum1 = mir_eval.chord.encode(label1, reduce_extended_chords=False, strict_bass_intervals=False)\n",
        "                      absolute_pcs1 = mir_eval.chord.rotate_bitmap_to_root(bitmap1, rootnum1)\n",
        "                      rootnum2, bitmap2, bassnum2 = mir_eval.chord.encode(label2, reduce_extended_chords=False, strict_bass_intervals=False)\n",
        "                      absolute_pcs2 = mir_eval.chord.rotate_bitmap_to_root(bitmap2, rootnum2)\n",
        "\n",
        "                      # cosine similarity measure\n",
        "                      cs12 = cossim(np.expand_dims(absolute_pcs1, axis=-1), np.expand_dims(absolute_pcs2, axis=-1))\n",
        "\n",
        "                      # insertion-deletion measure (Johanna)\n",
        "                      idm12 = predictionsInsertionsSymmetric(absolute_pcs1, absolute_pcs2)\n",
        "\n",
        "                      # if cs12>0.95:\n",
        "                      #print('{:<20}'.format(comparestring) + '   |  CS: ' + '{:.3f}'.format(cs12) + '  | IDM: ' + '{:.3f}'.format(idm12))\n",
        "\n",
        "                      pclist1 = set(absolute_pcs1.nonzero()[0])\n",
        "                      pclist2 = set(absolute_pcs2.nonzero()[0])\n",
        "                      pclistjoint = pclist1.intersection(pclist2)\n",
        "\n",
        "                      num_pcs1 = len(pclist1)\n",
        "                      num_pcs2 = len(pclist2)\n",
        "                      num_pcs_shared = len(pclistjoint)\n",
        "                      curr_stats = np.array([[num_pcs1, num_pcs2, num_pcs_shared, cs12, idm12]])\n",
        "                      pairwise_stats = np.concatenate((pairwise_stats, curr_stats), axis=0)\n",
        "\n",
        "                      previousstring = comparestring\n",
        "\n",
        "      return pairwise_stats\n",
        "\n",
        "def relative_overlapping_plot(pairwise_stats):\n",
        "  # print(pairwise_stats.shape)\n",
        "  # print(pairwise_stats)\n",
        "\n",
        "  #plt.figure(figsize=(6.5,3.5))\n",
        "  plt.figure(figsize=(4,2))\n",
        "  plt.plot(100*pairwise_stats[:, 2]/(0.5*(pairwise_stats[:, 0]+pairwise_stats[:, 1])), pairwise_stats[:, 3], 'b+', markeredgewidth=1)\n",
        "  plt.plot(100*pairwise_stats[:, 2]/(0.5*(pairwise_stats[:, 0]+pairwise_stats[:, 1])), pairwise_stats[:, 4], 'rx', markersize=5, markeredgewidth=.8)\n",
        "  plt.plot([0, 100], [0, 1],  'g-', linewidth=0.5)\n",
        "  #plt.legend([r'$S$ (Cosine Similarity)', r'$A$ (Prediction-Insertion)', '$F$ (Rel. number of overlapping PCs)'], loc=0)\n",
        "  plt.legend([r'$CS$', r'$A$', '$S$'])\n",
        "  plt.grid()\n",
        "  ax = plt.gca()\n",
        "  #ax.set_xlabel(r'Relative no. of overlapping pitch classes $F$ in %')\n",
        "  ax.set_xlabel(r'Relative no. of overlapping pitch classes $S$ in %')\n",
        "  ax.set_ylabel('Evaluation metric')\n",
        "  plt.show\n",
        "  plt.tight_layout\n",
        "  #plt.savefig('metrics_relative_no_pcs.pdf')\n",
        "\n",
        "def cossim_plot(pairwise_stats):\n",
        "  #plt.figure(figsize=(6.5,3))\n",
        "  plt.figure(figsize=(4,2))\n",
        "  plt.hist(pairwise_stats[:, 3], np.arange(-0.025, 1.025, 0.05))\n",
        "  # plt.grid()\n",
        "  ax = plt.gca()\n",
        "  ax.set_xlabel(r'Cosine similarity $CS$')\n",
        "  #ax.set_xlabel(r'Cosine similarity $S$')\n",
        "  ax.set_ylabel('Frequency')\n",
        "  ax.set_xticks(np.arange(0, 1.1, 0.1))\n",
        "  plt.show\n",
        "  plt.tight_layout\n",
        "  # plt.savefig('casd_cossim_histo.pdf')\n",
        "\n",
        "def lenInvar_plot(pairwise_stats):\n",
        "  #plt.figure(figsize=(6.5,3))\n",
        "  plt.figure(figsize=(4,2))\n",
        "  plt.hist(pairwise_stats[:, 4], np.arange(-0.025, 1.025, 0.05))\n",
        "  # plt.grid()\n",
        "  ax = plt.gca()\n",
        "  #ax.set_xlabel(r'Prediction-Insertion $A$')\n",
        "  ax.set_xlabel(r'Length-Invariant Accuracy $A$')\n",
        "  ax.set_ylabel('Frequency')\n",
        "  ax.set_xticks(np.arange(0, 1.1, 0.1))\n",
        "  plt.show\n",
        "  plt.tight_layout\n",
        "  # plt.savefig('casd_asymm_histo.pdf')"
      ],
      "metadata": {
        "id": "Ci0DWgnt7nKQ"
      },
      "execution_count": null,
      "outputs": []
    },
    {
      "cell_type": "markdown",
      "source": [
        "## Chordino"
      ],
      "metadata": {
        "id": "7E5qSJgQKuIG"
      }
    },
    {
      "cell_type": "code",
      "source": [
        "algorithm = 'Chordino'\n",
        "previousstring = ''\n",
        "counter = 0\n",
        "allpairs = 0\n",
        "pairwise_stats = np.zeros((0, 5))   # statistics: #pcs1, #pcs2, #pcsshared, cs, idm\n",
        "\n",
        "for index, row in df_all_songs_ACE.iterrows():\n",
        "\n",
        "        allpairs += 1\n",
        "        exec(\"label1 = row['Reference']\")\n",
        "        exec(\"label2 = row[algorithm]\")\n",
        "        root1, shorthand1, scaledeg1, bass1 = mir_eval.chord.split(label1)\n",
        "        root2, shorthand2, scaledeg2, bass2 = mir_eval.chord.split(label2)\n",
        "\n",
        "        rootlist_clean = [root1, root2]\n",
        "        while 'N' in rootlist_clean: rootlist_clean.remove('N')\n",
        "        rootlist_clean = [mir_eval.chord.pitch_class_to_semitone(r) for r in rootlist_clean]\n",
        "\n",
        "        if (len(rootlist_clean)>1):\n",
        "\n",
        "            if (rootlist_clean[0]!=rootlist_clean[1]):\n",
        "                counter+=1\n",
        "                comparestring = root1+':'+shorthand1+' - '+root2+':'+shorthand2\n",
        "\n",
        "                rootnum1, bitmap1, bassnum1 = mir_eval.chord.encode(label1, reduce_extended_chords=False, strict_bass_intervals=False)\n",
        "                absolute_pcs1 = mir_eval.chord.rotate_bitmap_to_root(bitmap1, rootnum1)\n",
        "                rootnum2, bitmap2, bassnum2 = mir_eval.chord.encode(label2, reduce_extended_chords=False, strict_bass_intervals=False)\n",
        "                absolute_pcs2 = mir_eval.chord.rotate_bitmap_to_root(bitmap2, rootnum2)\n",
        "\n",
        "                # cosine similarity measure\n",
        "                cs12 = cossim(np.expand_dims(absolute_pcs1, axis=-1), np.expand_dims(absolute_pcs2, axis=-1))\n",
        "\n",
        "                # insertion-deletion measure (Johanna)\n",
        "                idm12 = predictionsInsertionsSymmetric(absolute_pcs1, absolute_pcs2)\n",
        "\n",
        "                # if cs12>0.95:\n",
        "                #print('{:<20}'.format(comparestring) + '   |  CS: ' + '{:.3f}'.format(cs12) + '  | IDM: ' + '{:.3f}'.format(idm12))\n",
        "\n",
        "                pclist1 = set(absolute_pcs1.nonzero()[0])\n",
        "                pclist2 = set(absolute_pcs2.nonzero()[0])\n",
        "                pclistjoint = pclist1.intersection(pclist2)\n",
        "\n",
        "                num_pcs1 = len(pclist1)\n",
        "                num_pcs2 = len(pclist2)\n",
        "                num_pcs_shared = len(pclistjoint)\n",
        "                curr_stats = np.array([[num_pcs1, num_pcs2, num_pcs_shared, cs12, idm12]])\n",
        "                pairwise_stats = np.concatenate((pairwise_stats, curr_stats), axis=0)\n",
        "\n",
        "                previousstring = comparestring"
      ],
      "metadata": {
        "id": "B0I73LHWQry7"
      },
      "execution_count": null,
      "outputs": []
    },
    {
      "cell_type": "code",
      "source": [
        "relative_overlapping_plot(pairwise_stats)"
      ],
      "metadata": {
        "colab": {
          "base_uri": "https://localhost:8080/",
          "height": 238
        },
        "id": "SjtKX1E3ESiG",
        "outputId": "6f6b83b1-9282-4208-aae6-643ac33f4603"
      },
      "execution_count": null,
      "outputs": [
        {
          "output_type": "display_data",
          "data": {
            "text/plain": [
              "<Figure size 400x200 with 1 Axes>"
            ],
            "image/png": "[encoded data removed]"
          },
          "metadata": {}
        }
      ]
    },
    {
      "cell_type": "code",
      "source": [
        "cossim_plot(pairwise_stats)"
      ],
      "metadata": {
        "colab": {
          "base_uri": "https://localhost:8080/",
          "height": 238
        },
        "id": "HTA97KGoFHP0",
        "outputId": "b0db9ac2-aeb2-482f-e128-9675dde83324"
      },
      "execution_count": null,
      "outputs": [
        {
          "output_type": "display_data",
          "data": {
            "text/plain": [
              "<Figure size 400x200 with 1 Axes>"
            ],
            "image/png": "[encoded data removed]"
          },
          "metadata": {}
        }
      ]
    },
    {
      "cell_type": "code",
      "source": [
        "lenInvar_plot(pairwise_stats)"
      ],
      "metadata": {
        "colab": {
          "base_uri": "https://localhost:8080/",
          "height": 238
        },
        "id": "_MkE2oVgFJXX",
        "outputId": "585254c1-4fe0-4ea8-a7d6-1f01aa3c5501"
      },
      "execution_count": null,
      "outputs": [
        {
          "output_type": "display_data",
          "data": {
            "text/plain": [
              "<Figure size 400x200 with 1 Axes>"
            ],
            "image/png": "[encoded data removed]"
          },
          "metadata": {}
        }
      ]
    },
    {
      "cell_type": "markdown",
      "source": [
        "## Madmom"
      ],
      "metadata": {
        "id": "S1owbGsUKwt-"
      }
    },
    {
      "cell_type": "code",
      "source": [
        "algorithm = 'Madmom'\n",
        "previousstring = ''\n",
        "counter = 0\n",
        "allpairs = 0\n",
        "pairwise_stats2 = np.zeros((0, 5))   # statistics: #pcs1, #pcs2, #pcsshared, cs, idm\n",
        "\n",
        "for index, row in df_all_songs_ACE.iterrows():\n",
        "\n",
        "        allpairs += 1\n",
        "        exec(\"label1 = row['Reference']\")\n",
        "        exec(\"label2 = row[algorithm]\")\n",
        "        root1, shorthand1, scaledeg1, bass1 = mir_eval.chord.split(label1)\n",
        "        root2, shorthand2, scaledeg2, bass2 = mir_eval.chord.split(label2)\n",
        "\n",
        "        rootlist_clean = [root1, root2]\n",
        "        while 'N' in rootlist_clean: rootlist_clean.remove('N')\n",
        "        rootlist_clean = [mir_eval.chord.pitch_class_to_semitone(r) for r in rootlist_clean]\n",
        "\n",
        "        if (len(rootlist_clean)>1):\n",
        "\n",
        "            if (rootlist_clean[0]!=rootlist_clean[1]):\n",
        "                counter+=1\n",
        "                comparestring = root1+':'+shorthand1+' - '+root2+':'+shorthand2\n",
        "\n",
        "                rootnum1, bitmap1, bassnum1 = mir_eval.chord.encode(label1, reduce_extended_chords=False, strict_bass_intervals=False)\n",
        "                absolute_pcs1 = mir_eval.chord.rotate_bitmap_to_root(bitmap1, rootnum1)\n",
        "                rootnum2, bitmap2, bassnum2 = mir_eval.chord.encode(label2, reduce_extended_chords=False, strict_bass_intervals=False)\n",
        "                absolute_pcs2 = mir_eval.chord.rotate_bitmap_to_root(bitmap2, rootnum2)\n",
        "\n",
        "                # cosine similarity measure\n",
        "                cs12 = cossim(np.expand_dims(absolute_pcs1, axis=-1), np.expand_dims(absolute_pcs2, axis=-1))\n",
        "\n",
        "                # insertion-deletion measure (Johanna)\n",
        "                idm12 = predictionsInsertionsSymmetric(absolute_pcs1, absolute_pcs2)\n",
        "\n",
        "                # if cs12>0.95:\n",
        "                #print('{:<20}'.format(comparestring) + '   |  CS: ' + '{:.3f}'.format(cs12) + '  | IDM: ' + '{:.3f}'.format(idm12))\n",
        "\n",
        "                pclist1 = set(absolute_pcs1.nonzero()[0])\n",
        "                pclist2 = set(absolute_pcs2.nonzero()[0])\n",
        "                pclistjoint = pclist1.intersection(pclist2)\n",
        "\n",
        "                num_pcs1 = len(pclist1)\n",
        "                num_pcs2 = len(pclist2)\n",
        "                num_pcs_shared = len(pclistjoint)\n",
        "                curr_stats = np.array([[num_pcs1, num_pcs2, num_pcs_shared, cs12, idm12]])\n",
        "                pairwise_stats2 = np.concatenate((pairwise_stats2, curr_stats), axis=0)\n",
        "\n",
        "                previousstring = comparestring"
      ],
      "metadata": {
        "id": "ZrmYDZzpKyDv"
      },
      "execution_count": null,
      "outputs": []
    },
    {
      "cell_type": "code",
      "source": [
        "relative_overlapping_plot(pairwise_stats2)"
      ],
      "metadata": {
        "colab": {
          "base_uri": "https://localhost:8080/",
          "height": 238
        },
        "id": "5MnhSpjMRX_U",
        "outputId": "b139a526-5e15-40f9-bb6f-5f7bc28e9d62"
      },
      "execution_count": null,
      "outputs": [
        {
          "output_type": "display_data",
          "data": {
            "text/plain": [
              "<Figure size 400x200 with 1 Axes>"
            ],
            "image/png": "[encoded data removed]"
          },
          "metadata": {}
        }
      ]
    },
    {
      "cell_type": "code",
      "source": [
        "cossim_plot(pairwise_stats2)"
      ],
      "metadata": {
        "colab": {
          "base_uri": "https://localhost:8080/",
          "height": 238
        },
        "id": "bPsgcSn7RY1L",
        "outputId": "2675fa4d-db87-4d00-f500-000b51384aa4"
      },
      "execution_count": null,
      "outputs": [
        {
          "output_type": "display_data",
          "data": {
            "text/plain": [
              "<Figure size 400x200 with 1 Axes>"
            ],
            "image/png": "[encoded data removed]"
          },
          "metadata": {}
        }
      ]
    },
    {
      "cell_type": "code",
      "source": [
        "lenInvar_plot(pairwise_stats2)"
      ],
      "metadata": {
        "colab": {
          "base_uri": "https://localhost:8080/",
          "height": 238
        },
        "id": "-Q20GoTCRZCf",
        "outputId": "2b340e7d-cdf2-4a19-dc2b-3b68ef09c9a3"
      },
      "execution_count": null,
      "outputs": [
        {
          "output_type": "display_data",
          "data": {
            "text/plain": [
              "<Figure size 400x200 with 1 Axes>"
            ],
            "image/png": "[encoded data removed]"
          },
          "metadata": {}
        }
      ]
    }
  ]
}