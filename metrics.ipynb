{
  "nbformat": 4,
  "nbformat_minor": 0,
  "metadata": {
    "colab": {
      "provenance": [],
      "collapsed_sections": [
        "AAxjRm6G-DFZ",
        "UL3b6rpxbUzp",
        "XCi5zAOmbe1_",
        "muYomz16csbq"
      ],
      "include_colab_link": true
    },
    "kernelspec": {
      "name": "python3",
      "display_name": "Python 3"
    },
    "language_info": {
      "name": "python"
    }
  },
  "cells": [
    {
      "cell_type": "markdown",
      "metadata": {
        "id": "view-in-github",
        "colab_type": "text"
      },
      "source": [
        "<a href=\"https://colab.research.google.com/github/jcdevaney/metricData/blob/main/metrics.ipynb\" target=\"_parent\"><img src=\"https://colab.research.google.com/assets/colab-badge.svg\" alt=\"Open In Colab\"/></a>"
      ]
    },
    {
      "cell_type": "markdown",
      "source": [
        "# Load Libraries and Data"
      ],
      "metadata": {
        "id": "GBM6F-dna_FZ"
      }
    },
    {
      "cell_type": "code",
      "execution_count": 2,
      "metadata": {
        "id": "EOaPGkkbjJey",
        "colab": {
          "base_uri": "https://localhost:8080/"
        },
        "outputId": "881f4584-fee5-43bb-b23f-16a2d38809ed"
      },
      "outputs": [
        {
          "output_type": "stream",
          "name": "stdout",
          "text": [
            "Requirement already satisfied: libfmp in /usr/local/lib/python3.10/dist-packages (1.2.5)\n",
            "Requirement already satisfied: ipython<8.0.0,>=7.10.0 in /usr/local/lib/python3.10/dist-packages (from libfmp) (7.34.0)\n",
            "Requirement already satisfied: librosa<1.0.0,>=0.8.0 in /usr/local/lib/python3.10/dist-packages (from libfmp) (0.10.1)\n",
            "Requirement already satisfied: matplotlib<4.0.0,>=3.3.0 in /usr/local/lib/python3.10/dist-packages (from libfmp) (3.7.1)\n",
            "Requirement already satisfied: music21<6.0.0,>=5.7.0 in /usr/local/lib/python3.10/dist-packages (from libfmp) (5.7.2)\n",
            "Requirement already satisfied: numba<1.0.0,>=0.56.0 in /usr/local/lib/python3.10/dist-packages (from libfmp) (0.56.4)\n",
            "Requirement already satisfied: numpy<2.0.0,>=1.19.0 in /usr/local/lib/python3.10/dist-packages (from libfmp) (1.23.5)\n",
            "Requirement already satisfied: pandas<2.0.0,>=1.1.0 in /usr/local/lib/python3.10/dist-packages (from libfmp) (1.5.3)\n",
            "Requirement already satisfied: pretty-midi<1.0.0,>=0.2.0 in /usr/local/lib/python3.10/dist-packages (from libfmp) (0.2.10)\n",
            "Requirement already satisfied: soundfile<1.0.0,>=0.9.0 in /usr/local/lib/python3.10/dist-packages (from libfmp) (0.12.1)\n",
            "Requirement already satisfied: scipy<2.0.0,>=1.5.0 in /usr/local/lib/python3.10/dist-packages (from libfmp) (1.11.3)\n",
            "Requirement already satisfied: setuptools>=18.5 in /usr/local/lib/python3.10/dist-packages (from ipython<8.0.0,>=7.10.0->libfmp) (67.7.2)\n",
            "Requirement already satisfied: jedi>=0.16 in /usr/local/lib/python3.10/dist-packages (from ipython<8.0.0,>=7.10.0->libfmp) (0.19.1)\n",
            "Requirement already satisfied: decorator in /usr/local/lib/python3.10/dist-packages (from ipython<8.0.0,>=7.10.0->libfmp) (4.4.2)\n",
            "Requirement already satisfied: pickleshare in /usr/local/lib/python3.10/dist-packages (from ipython<8.0.0,>=7.10.0->libfmp) (0.7.5)\n",
            "Requirement already satisfied: traitlets>=4.2 in /usr/local/lib/python3.10/dist-packages (from ipython<8.0.0,>=7.10.0->libfmp) (5.7.1)\n",
            "Requirement already satisfied: prompt-toolkit!=3.0.0,!=3.0.1,<3.1.0,>=2.0.0 in /usr/local/lib/python3.10/dist-packages (from ipython<8.0.0,>=7.10.0->libfmp) (3.0.39)\n",
            "Requirement already satisfied: pygments in /usr/local/lib/python3.10/dist-packages (from ipython<8.0.0,>=7.10.0->libfmp) (2.16.1)\n",
            "Requirement already satisfied: backcall in /usr/local/lib/python3.10/dist-packages (from ipython<8.0.0,>=7.10.0->libfmp) (0.2.0)\n",
            "Requirement already satisfied: matplotlib-inline in /usr/local/lib/python3.10/dist-packages (from ipython<8.0.0,>=7.10.0->libfmp) (0.1.6)\n",
            "Requirement already satisfied: pexpect>4.3 in /usr/local/lib/python3.10/dist-packages (from ipython<8.0.0,>=7.10.0->libfmp) (4.8.0)\n",
            "Requirement already satisfied: audioread>=2.1.9 in /usr/local/lib/python3.10/dist-packages (from librosa<1.0.0,>=0.8.0->libfmp) (3.0.1)\n",
            "Requirement already satisfied: scikit-learn>=0.20.0 in /usr/local/lib/python3.10/dist-packages (from librosa<1.0.0,>=0.8.0->libfmp) (1.2.2)\n",
            "Requirement already satisfied: joblib>=0.14 in /usr/local/lib/python3.10/dist-packages (from librosa<1.0.0,>=0.8.0->libfmp) (1.3.2)\n",
            "Requirement already satisfied: pooch>=1.0 in /usr/local/lib/python3.10/dist-packages (from librosa<1.0.0,>=0.8.0->libfmp) (1.7.0)\n",
            "Requirement already satisfied: soxr>=0.3.2 in /usr/local/lib/python3.10/dist-packages (from librosa<1.0.0,>=0.8.0->libfmp) (0.3.6)\n",
            "Requirement already satisfied: typing-extensions>=4.1.1 in /usr/local/lib/python3.10/dist-packages (from librosa<1.0.0,>=0.8.0->libfmp) (4.5.0)\n",
            "Requirement already satisfied: lazy-loader>=0.1 in /usr/local/lib/python3.10/dist-packages (from librosa<1.0.0,>=0.8.0->libfmp) (0.3)\n",
            "Requirement already satisfied: msgpack>=1.0 in /usr/local/lib/python3.10/dist-packages (from librosa<1.0.0,>=0.8.0->libfmp) (1.0.7)\n",
            "Requirement already satisfied: contourpy>=1.0.1 in /usr/local/lib/python3.10/dist-packages (from matplotlib<4.0.0,>=3.3.0->libfmp) (1.1.1)\n",
            "Requirement already satisfied: cycler>=0.10 in /usr/local/lib/python3.10/dist-packages (from matplotlib<4.0.0,>=3.3.0->libfmp) (0.12.0)\n",
            "Requirement already satisfied: fonttools>=4.22.0 in /usr/local/lib/python3.10/dist-packages (from matplotlib<4.0.0,>=3.3.0->libfmp) (4.43.0)\n",
            "Requirement already satisfied: kiwisolver>=1.0.1 in /usr/local/lib/python3.10/dist-packages (from matplotlib<4.0.0,>=3.3.0->libfmp) (1.4.5)\n",
            "Requirement already satisfied: packaging>=20.0 in /usr/local/lib/python3.10/dist-packages (from matplotlib<4.0.0,>=3.3.0->libfmp) (23.1)\n",
            "Requirement already satisfied: pillow>=6.2.0 in /usr/local/lib/python3.10/dist-packages (from matplotlib<4.0.0,>=3.3.0->libfmp) (9.4.0)\n",
            "Requirement already satisfied: pyparsing>=2.3.1 in /usr/local/lib/python3.10/dist-packages (from matplotlib<4.0.0,>=3.3.0->libfmp) (3.1.1)\n",
            "Requirement already satisfied: python-dateutil>=2.7 in /usr/local/lib/python3.10/dist-packages (from matplotlib<4.0.0,>=3.3.0->libfmp) (2.8.2)\n",
            "Requirement already satisfied: llvmlite<0.40,>=0.39.0dev0 in /usr/local/lib/python3.10/dist-packages (from numba<1.0.0,>=0.56.0->libfmp) (0.39.1)\n",
            "Requirement already satisfied: pytz>=2020.1 in /usr/local/lib/python3.10/dist-packages (from pandas<2.0.0,>=1.1.0->libfmp) (2023.3.post1)\n",
            "Requirement already satisfied: mido>=1.1.16 in /usr/local/lib/python3.10/dist-packages (from pretty-midi<1.0.0,>=0.2.0->libfmp) (1.3.0)\n",
            "Requirement already satisfied: six in /usr/local/lib/python3.10/dist-packages (from pretty-midi<1.0.0,>=0.2.0->libfmp) (1.16.0)\n",
            "Requirement already satisfied: cffi>=1.0 in /usr/local/lib/python3.10/dist-packages (from soundfile<1.0.0,>=0.9.0->libfmp) (1.16.0)\n",
            "Requirement already satisfied: pycparser in /usr/local/lib/python3.10/dist-packages (from cffi>=1.0->soundfile<1.0.0,>=0.9.0->libfmp) (2.21)\n",
            "Requirement already satisfied: parso<0.9.0,>=0.8.3 in /usr/local/lib/python3.10/dist-packages (from jedi>=0.16->ipython<8.0.0,>=7.10.0->libfmp) (0.8.3)\n",
            "Requirement already satisfied: ptyprocess>=0.5 in /usr/local/lib/python3.10/dist-packages (from pexpect>4.3->ipython<8.0.0,>=7.10.0->libfmp) (0.7.0)\n",
            "Requirement already satisfied: platformdirs>=2.5.0 in /usr/local/lib/python3.10/dist-packages (from pooch>=1.0->librosa<1.0.0,>=0.8.0->libfmp) (3.10.0)\n",
            "Requirement already satisfied: requests>=2.19.0 in /usr/local/lib/python3.10/dist-packages (from pooch>=1.0->librosa<1.0.0,>=0.8.0->libfmp) (2.31.0)\n",
            "Requirement already satisfied: wcwidth in /usr/local/lib/python3.10/dist-packages (from prompt-toolkit!=3.0.0,!=3.0.1,<3.1.0,>=2.0.0->ipython<8.0.0,>=7.10.0->libfmp) (0.2.7)\n",
            "Requirement already satisfied: threadpoolctl>=2.0.0 in /usr/local/lib/python3.10/dist-packages (from scikit-learn>=0.20.0->librosa<1.0.0,>=0.8.0->libfmp) (3.2.0)\n",
            "Requirement already satisfied: charset-normalizer<4,>=2 in /usr/local/lib/python3.10/dist-packages (from requests>=2.19.0->pooch>=1.0->librosa<1.0.0,>=0.8.0->libfmp) (3.2.0)\n",
            "Requirement already satisfied: idna<4,>=2.5 in /usr/local/lib/python3.10/dist-packages (from requests>=2.19.0->pooch>=1.0->librosa<1.0.0,>=0.8.0->libfmp) (3.4)\n",
            "Requirement already satisfied: urllib3<3,>=1.21.1 in /usr/local/lib/python3.10/dist-packages (from requests>=2.19.0->pooch>=1.0->librosa<1.0.0,>=0.8.0->libfmp) (2.0.5)\n",
            "Requirement already satisfied: certifi>=2017.4.17 in /usr/local/lib/python3.10/dist-packages (from requests>=2.19.0->pooch>=1.0->librosa<1.0.0,>=0.8.0->libfmp) (2023.7.22)\n",
            "Collecting mir_eval\n",
            "  Downloading mir_eval-0.7.tar.gz (90 kB)\n",
            "\u001b[2K     \u001b[90m━━━━━━━━━━━━━━━━━━━━━━━━━━━━━━━━━━━━━━━━\u001b[0m \u001b[32m90.7/90.7 kB\u001b[0m \u001b[31m1.8 MB/s\u001b[0m eta \u001b[36m0:00:00\u001b[0m\n",
            "\u001b[?25h  Preparing metadata (setup.py) ... \u001b[?25l\u001b[?25hdone\n",
            "Requirement already satisfied: numpy>=1.7.0 in /usr/local/lib/python3.10/dist-packages (from mir_eval) (1.23.5)\n",
            "Requirement already satisfied: scipy>=1.0.0 in /usr/local/lib/python3.10/dist-packages (from mir_eval) (1.11.3)\n",
            "Requirement already satisfied: future in /usr/local/lib/python3.10/dist-packages (from mir_eval) (0.18.3)\n",
            "Requirement already satisfied: six in /usr/local/lib/python3.10/dist-packages (from mir_eval) (1.16.0)\n",
            "Building wheels for collected packages: mir_eval\n",
            "  Building wheel for mir_eval (setup.py) ... \u001b[?25l\u001b[?25hdone\n",
            "  Created wheel for mir_eval: filename=mir_eval-0.7-py3-none-any.whl size=100703 sha256=16b1020f35f61dd6c61254de9e83480d9612f45cc12893b615e4f68c1ed1800b\n",
            "  Stored in directory: /root/.cache/pip/wheels/3e/2f/0d/dda9c4c77a170e21356b6afa2f7d9bb078338634ba05d94e3f\n",
            "Successfully built mir_eval\n",
            "Installing collected packages: mir_eval\n",
            "Successfully installed mir_eval-0.7\n"
          ]
        }
      ],
      "source": [
        "!pip install libfmp\n",
        "!pip install mir_eval\n",
        "import numpy as np, os, scipy\n",
        "import pandas as pd\n",
        "import mir_eval"
      ]
    },
    {
      "cell_type": "markdown",
      "source": [
        "# Define Metrics"
      ],
      "metadata": {
        "id": "AAxjRm6G-DFZ"
      }
    },
    {
      "cell_type": "code",
      "source": [
        "from libfmp.c3 import normalize_feature_sequence\n",
        "\n",
        "def cossimBM(vec1, vec2, threshold=0.001):\n",
        "    vec1_norm = normalize_feature_sequence(vec1, norm='2', threshold=threshold)\n",
        "    vec2_norm = normalize_feature_sequence(vec2, norm='2', threshold=threshold)\n",
        "    cosine_sim = np.sum(np.multiply(vec1_norm, vec2_norm))/vec2_norm.shape[1]\n",
        "    return cosine_sim"
      ],
      "metadata": {
        "id": "NsoJHl2qViMK"
      },
      "execution_count": null,
      "outputs": []
    },
    {
      "cell_type": "code",
      "source": [
        "# symmetrized version of above measure\n",
        "\n",
        "# def predictionsInsertionsSymmetric(label1BM, label2BM):\n",
        "\n",
        "#     label1=set(label1BM.nonzero()[0])\n",
        "#     label2=set(label2BM.nonzero()[0])\n",
        "\n",
        "#     if (len(label1)==0) & (len(label2)==0):\n",
        "#         A = 1\n",
        "#     elif len(label1)==0:\n",
        "#         A = predictionsInsertionsBM(label1BM, label2BM)\n",
        "#     elif len(label2)==0:\n",
        "#         A = predictionsInsertionsBM(label2BM, label1BM)\n",
        "#     else:\n",
        "#         A = (predictionsInsertionsBM(label1BM, label2BM) + predictionsInsertionsBM(label2BM, label1BM))/2\n",
        "\n",
        "#     return A\n",
        "\n",
        "def predictionsInsertionsBM(estimateBM, referenceBM):\n",
        "    estimate=set(estimateBM.nonzero()[0])\n",
        "    reference=set(referenceBM.nonzero()[0])\n",
        "    le = len(estimate)\n",
        "    lr = len(reference)\n",
        "\n",
        "    # C is the number of predicted notes in the estimate that occur in the reference (ground truth)\n",
        "    C = len(estimate.intersection(reference))\n",
        "\n",
        "    # I is the number of insertions (extra predicted notes) in the estimate that are not present in\n",
        "    # the reference (ground truth)\n",
        "    I = max(len(estimate.difference(reference)), len(reference.difference(estimate)))\n",
        "\n",
        "    maxlength = max(le, lr)\n",
        "\n",
        "    if maxlength==0:\n",
        "        A = 1\n",
        "\n",
        "    else:\n",
        "        # accuracy measurement for each chord estimate, scaled between 0 and 1\n",
        "        A = (C - I + maxlength) / (2*maxlength)\n",
        "        # A = (C - I + len(reference)) / (2*len(reference))\n",
        "\n",
        "    return A"
      ],
      "metadata": {
        "id": "YJJb9q-vGrDg"
      },
      "execution_count": null,
      "outputs": []
    },
    {
      "cell_type": "markdown",
      "source": [
        "# Example Use of Metric Functions"
      ],
      "metadata": {
        "id": "qzoftSYZnpTe"
      }
    },
    {
      "cell_type": "code",
      "source": [
        "# Labels\n",
        "# estimates\n",
        "dminlab = 'D:min'\n",
        "\n",
        "# reference\n",
        "FMajlab = 'F:maj'\n",
        "\n",
        "rootnum1, bitmap1, bassnum1 = mir_eval.chord.encode(dminlab, reduce_extended_chords=False, strict_bass_intervals=False)\n",
        "absolute_pcs1 = mir_eval.chord.rotate_bitmap_to_root(bitmap1, rootnum1)\n",
        "rootnum2, bitmap2, bassnum2 = mir_eval.chord.encode(label2, reduce_extended_chords=False, strict_bass_intervals=False)\n",
        "absolute_pcs2 = mir_eval.chord.rotate_bitmap_to_root(FMajlab, rootnum2)\n",
        "\n",
        "cossimBMres = cossimBM(np.expand_dims(absolute_pcs1, axis=-1), np.expand_dims(absolute_pcs2, axis=-1))\n",
        "predictionsInsertionsBMres = predictionsInsertionsBM(np.expand_dims(absolute_pcs1, axis=-1), np.expand_dims(absolute_pcs2, axis=-1))"
      ],
      "metadata": {
        "id": "WVii7E_Dnoo0"
      },
      "execution_count": null,
      "outputs": []
    }
  ]
}